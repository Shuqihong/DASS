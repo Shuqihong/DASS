{
 "cells": [
  {
   "cell_type": "code",
   "execution_count": null,
   "metadata": {},
   "outputs": [],
   "source": [
    "# import libraries\n",
    "%load_ext autoreload\n",
    "%reload_ext autoreload\n",
    "%autoreload 2\n",
    "\n",
    "import numpy as np\n",
    "import matplotlib.pyplot as plt\n",
    "\n",
    "from sklearn.svm import SVR\n",
    "from sklearn.gaussian_process.kernels import ExpSineSquared\n",
    "from sklearn.kernel_ridge import KernelRidge\n",
    "from sklearn.gaussian_process import GaussianProcessRegressor\n",
    "from sklearn.gaussian_process.kernels import WhiteKernel, RBF, RationalQuadratic\n",
    "from sklearn.preprocessing import RobustScaler, QuantileTransformer, PowerTransformer, MaxAbsScaler, StandardScaler, KBinsDiscretizer"
   ]
  },
  {
   "cell_type": "code",
   "execution_count": 6,
   "metadata": {},
   "outputs": [],
   "source": [
    "prediction = np.empty((0,1))"
   ]
  },
  {
   "cell_type": "code",
   "execution_count": 7,
   "metadata": {},
   "outputs": [],
   "source": [
    "# import data\n",
    "raw = np.loadtxt('../1/o.csv', skiprows=1, delimiter=',')\n",
    "# preprocess data\n",
    "y_train = raw[:,0:1]\n",
    "y_train = raw[:,1:2]\n",
    "#transformer = RobustScaler(quantile_range=(0.1, 0.9))\n",
    "transformer = StandardScaler().fit(y_train) # standardization\n",
    "y_train = transformer.transform(y_train)\n",
    "\n",
    "x_train = np.array([[i] for i in range(len(y_train))])\n",
    "\n",
    "X = np.array([[i] for i in range(48)])\n",
    "\n",
    "# define kernel\n",
    "long_term_trend_kernel = 40.0**2 * RBF(length_scale=40) \n",
    "#long_term_trend_kernel = 40.0**2 * ExpSineSquared(length_scale=40, periodicity=12.0, periodicity_bounds=(12, 36)) *  40.0**2 *RBF(length_scale=40) \n",
    "seasonal_kernel = (\n",
    "    12.0**2\n",
    "    #* RBF(length_scale=10)\n",
    "    * ExpSineSquared(length_scale=0.1, periodicity=12.0, periodicity_bounds=(12, 12))\n",
    ")\n",
    "irregularities_kernel = 3**2 * RationalQuadratic(length_scale=0.1, alpha=1.0)\n",
    "noise_kernel = 1**2 * RBF(length_scale=0.1) + WhiteKernel(noise_level_bounds=(0, 1))\n",
    "# combine kernel\n",
    "kernel = long_term_trend_kernel + seasonal_kernel + irregularities_kernel + noise_kernel\n",
    "# initialize models\n",
    "gaussian_process = GaussianProcessRegressor(kernel=kernel)\n",
    "kernel_ridge = KernelRidge(kernel=kernel)\n",
    "# support vector regression\n",
    "C = 100\n",
    "svr_rbf = SVR(kernel=\"rbf\", C=C, gamma=0.1, epsilon=0.1)\n",
    "svr_lin = SVR(kernel=\"linear\", C=C, gamma=\"auto\")\n",
    "svr_poly = SVR(kernel=\"poly\", C=C, gamma=\"auto\", degree=2, epsilon=0.1, coef0=0)"
   ]
  },
  {
   "cell_type": "code",
   "execution_count": null,
   "metadata": {},
   "outputs": [],
   "source": [
    "# visualize model results\n",
    "lw = 2\n",
    "models = [svr_rbf, gaussian_process, kernel_ridge]\n",
    "kernel_label = [\"RBF\", \"gaussian_process\", \"kernel_ridge\"]\n",
    "model_color = [\"m\", \"c\", \"g\"]\n",
    "\n",
    "fig, axes = plt.subplots(nrows=1, ncols=3, figsize=(15, 10), sharey=True)\n",
    "for ix, svr in enumerate(models):\n",
    "    y = svr.fit(x_train, y_train).predict(X)\n",
    "    axes[ix].plot(\n",
    "        X,\n",
    "        y,\n",
    "        color=model_color[ix],\n",
    "        lw=lw,\n",
    "        label=\"{} model\".format(kernel_label[ix]),\n",
    "    )\n",
    "    axes[ix].scatter(\n",
    "        X[:],\n",
    "        y[:],\n",
    "        facecolor=\"none\",\n",
    "        edgecolor=model_color[ix],\n",
    "        s=50,\n",
    "        label=\"{} support vectors\".format(kernel_label[ix]),\n",
    "    )\n",
    "    axes[ix].scatter(\n",
    "        x_train,\n",
    "        y_train,\n",
    "        facecolor=\"none\",\n",
    "        edgecolor=\"k\",\n",
    "        s=50,\n",
    "        label=\"training data\",\n",
    "    )\n",
    "    axes[ix].legend(\n",
    "        loc=\"upper center\",\n",
    "        bbox_to_anchor=(0.5, 1.1),\n",
    "        ncol=1,\n",
    "        fancybox=True,\n",
    "        shadow=True,\n",
    "    )\n",
    "\n",
    "fig.text(0.5, 0.04, \"data\", ha=\"center\", va=\"center\")\n",
    "fig.text(0.06, 0.5, \"target\", ha=\"center\", va=\"center\", rotation=\"vertical\")\n",
    "fig.suptitle(\"Support Vector Regression\", fontsize=14)\n",
    "plt.show()\n",
    "#print(gaussian_process.kernel_)"
   ]
  },
  {
   "cell_type": "code",
   "execution_count": null,
   "metadata": {},
   "outputs": [],
   "source": [
    "X = np.array([[i] for i in range(39, 48)])\n",
    "predictor = kernel_ridge\n",
    "print(\"Predicted Y: \",predictor.fit(x_train, y_train).predict(X))\n",
    "temp = transformer.inverse_transform(predictor.predict(X).reshape(-1, 1))\n",
    "prediction = np.concatenate((prediction, temp))\n",
    "print(\"Predicted Raw: \", prediction)\n",
    "print(prediction.shape)"
   ]
  }
 ],
 "metadata": {
  "kernelspec": {
   "display_name": ".venv",
   "language": "python",
   "name": "python3"
  },
  "language_info": {
   "codemirror_mode": {
    "name": "ipython",
    "version": 3
   },
   "file_extension": ".py",
   "mimetype": "text/x-python",
   "name": "python",
   "nbconvert_exporter": "python",
   "pygments_lexer": "ipython3",
   "version": "3.9.7"
  },
  "orig_nbformat": 4
 },
 "nbformat": 4,
 "nbformat_minor": 2
}
